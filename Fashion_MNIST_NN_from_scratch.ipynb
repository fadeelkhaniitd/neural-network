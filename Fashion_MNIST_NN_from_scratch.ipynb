{
 "cells": [
  {
   "cell_type": "code",
   "id": "initial_id",
   "metadata": {
    "collapsed": true,
    "ExecuteTime": {
     "end_time": "2025-06-12T06:58:56.546785Z",
     "start_time": "2025-06-12T06:58:53.120806Z"
    }
   },
   "source": [
    "import numpy as np\n",
    "import pandas as pd\n",
    "\n",
    "traindf = pd.read_csv(\"fashion-mnist_train.csv\")"
   ],
   "outputs": [],
   "execution_count": 122
  },
  {
   "metadata": {
    "ExecuteTime": {
     "end_time": "2025-06-12T06:58:57.324908Z",
     "start_time": "2025-06-12T06:58:57.318286Z"
    }
   },
   "cell_type": "code",
   "source": [
    "labels = sorted(list(traindf['label'].unique()))\n",
    "n_out = len(labels)\n",
    "n_in = sum(col.startswith('pixel') for col in traindf.columns)\n",
    "n_hidden = 128"
   ],
   "id": "9657ac9e794491d4",
   "outputs": [],
   "execution_count": 123
  },
  {
   "metadata": {
    "ExecuteTime": {
     "end_time": "2025-06-12T06:58:58.616440Z",
     "start_time": "2025-06-12T06:58:58.464834Z"
    }
   },
   "cell_type": "code",
   "source": [
    "dummies = pd.get_dummies(traindf['label'], prefix='y')\n",
    "traindf = pd.concat([traindf, dummies], axis=1)\n",
    "for i in labels:\n",
    "    traindf[f'y_{i}'] = (traindf['label'] == i).astype(int)"
   ],
   "id": "a491d15aaad3fad8",
   "outputs": [],
   "execution_count": 124
  },
  {
   "metadata": {
    "ExecuteTime": {
     "end_time": "2025-06-12T06:59:01.806053Z",
     "start_time": "2025-06-12T06:59:01.437620Z"
    }
   },
   "cell_type": "code",
   "source": [
    "X = traindf[[f'pixel{i}' for i in range(1, n_in+1)]].to_numpy() / 255.0\n",
    "Y = traindf[[f'y_{i}' for i in range(n_out)]].to_numpy()"
   ],
   "id": "8aae98f88e917321",
   "outputs": [],
   "execution_count": 125
  },
  {
   "metadata": {
    "ExecuteTime": {
     "end_time": "2025-06-12T07:21:46.655213Z",
     "start_time": "2025-06-12T07:21:46.645021Z"
    }
   },
   "cell_type": "code",
   "source": [
    "# This is called the Xavier initialisation\n",
    "rng = np.random.default_rng(42)\n",
    "Wh = rng.normal(0, np.sqrt(2/(n_in+n_hidden)), (n_in, n_hidden)).astype(np.float32)\n",
    "bh = np.zeros(n_hidden, dtype=np.float32)\n",
    "Wo = rng.normal(0, np.sqrt(2/(n_hidden+n_out)), (n_hidden, n_out)).astype(np.float32)\n",
    "bo = np.zeros(n_out, dtype=np.float32)"
   ],
   "id": "fddc0caf33a75943",
   "outputs": [],
   "execution_count": 173
  },
  {
   "metadata": {
    "ExecuteTime": {
     "end_time": "2025-06-12T07:11:08.112901Z",
     "start_time": "2025-06-12T07:11:08.106257Z"
    }
   },
   "cell_type": "code",
   "source": [
    "sigmoid  = lambda z: 1/(1+np.exp(-z))\n",
    "dsigmoid = lambda z: sigmoid(z)*(1-sigmoid(z))"
   ],
   "id": "b40faaf603de6560",
   "outputs": [],
   "execution_count": 157
  },
  {
   "metadata": {
    "ExecuteTime": {
     "end_time": "2025-06-12T07:09:03.159701Z",
     "start_time": "2025-06-12T07:09:03.152018Z"
    }
   },
   "cell_type": "code",
   "source": [
    "def forward(X):\n",
    "    Zh = X @ Wh + bh          # (m,n_hidden)\n",
    "    H  = sigmoid(Zh)\n",
    "    Zo = H @ Wo + bo          # (m,n_out)\n",
    "    O  = sigmoid(Zo)\n",
    "    return O, (X, Zh, H, Zo)\n",
    "\n",
    "def backward(Y, cache):\n",
    "    X, Zh, H, Zo = cache\n",
    "    m = X.shape[0]\n",
    "\n",
    "    dZo = 2*(sigmoid(Zo) - Y) * dsigmoid(Zo)   # (m,n_out)\n",
    "    dWo = (H.T @ dZo) / m\n",
    "    dbo = dZo.mean(axis=0)\n",
    "\n",
    "    dZh = (dZo @ Wo.T) * dsigmoid(Zh)          # (m,n_hidden)\n",
    "    dWh = (X.T @ dZh) / m\n",
    "    dbh = dZh.mean(axis=0)\n",
    "    return dWh, dbh, dWo, dbo"
   ],
   "id": "2a5e14e44d082aea",
   "outputs": [],
   "execution_count": 149
  },
  {
   "metadata": {
    "ExecuteTime": {
     "end_time": "2025-06-12T07:21:50.445723Z",
     "start_time": "2025-06-12T07:21:50.092006Z"
    }
   },
   "cell_type": "code",
   "source": [
    "O, _ = forward(X)\n",
    "mse = np.mean((O - Y)**2)\n",
    "print(f\"mse={mse}\")"
   ],
   "id": "bc37810c07dac3f2",
   "outputs": [
    {
     "name": "stdout",
     "output_type": "stream",
     "text": [
      "mse=0.2877080212738844\n"
     ]
    }
   ],
   "execution_count": 174
  },
  {
   "metadata": {
    "ExecuteTime": {
     "end_time": "2025-06-12T09:08:13.639110Z",
     "start_time": "2025-06-12T08:49:37.608192Z"
    }
   },
   "cell_type": "code",
   "source": [
    "lr     = 0.1\n",
    "epochs = 200\n",
    "batch  = 100\n",
    "\n",
    "for epoch in range(1, epochs+1):\n",
    "    idx = np.random.permutation(X.shape[0])\n",
    "    for s in range(0, len(X), batch):\n",
    "        Xb, Yb = X[idx[s:s+batch]], Y[idx[s:s+batch]]\n",
    "\n",
    "        O, cache = forward(Xb)\n",
    "        gWh, gbh, gWo, gbo = backward(Yb, cache)\n",
    "\n",
    "        Wh -= lr * gWh\n",
    "        bh -= lr * gbh\n",
    "        Wo -= lr * gWo\n",
    "        bo -= lr * gbo\n",
    "\n",
    "    O, _ = forward(X)\n",
    "    mse = np.mean((O - Y)**2)\n",
    "    print(f\"epoch {epoch}   mse={mse}\")\n"
   ],
   "id": "e3ac5fe085c6ca7a",
   "outputs": [
    {
     "name": "stdout",
     "output_type": "stream",
     "text": [
      "epoch 1   mse=0.00636460952301675\n",
      "epoch 2   mse=0.0064409437641651\n",
      "epoch 3   mse=0.006349809194943744\n",
      "epoch 4   mse=0.006348969151066984\n",
      "epoch 5   mse=0.006311244686764653\n",
      "epoch 6   mse=0.006309087757872851\n",
      "epoch 7   mse=0.006283105428652491\n",
      "epoch 8   mse=0.006306483189697265\n",
      "epoch 9   mse=0.0063143174313165604\n",
      "epoch 10   mse=0.0062855287135852814\n",
      "epoch 11   mse=0.006289022414771383\n",
      "epoch 12   mse=0.006277081617475266\n",
      "epoch 13   mse=0.006260934078232881\n",
      "epoch 14   mse=0.006284387808541955\n",
      "epoch 15   mse=0.0063244194323751265\n",
      "epoch 16   mse=0.006228854782115879\n",
      "epoch 17   mse=0.006236719946780898\n",
      "epoch 18   mse=0.006237359958948879\n",
      "epoch 19   mse=0.006226915042717576\n",
      "epoch 20   mse=0.006204102058775497\n",
      "epoch 21   mse=0.0062269440185615515\n",
      "epoch 22   mse=0.0062063595624193574\n",
      "epoch 23   mse=0.006185622819842631\n",
      "epoch 24   mse=0.006202265458981526\n",
      "epoch 25   mse=0.006222175370937365\n",
      "epoch 26   mse=0.006154071239413308\n",
      "epoch 27   mse=0.006157370704075574\n",
      "epoch 28   mse=0.0062663621485512825\n",
      "epoch 29   mse=0.006185132729579603\n",
      "epoch 30   mse=0.0061978318688844045\n",
      "epoch 31   mse=0.006169323993677887\n",
      "epoch 32   mse=0.006135433791453836\n",
      "epoch 33   mse=0.006168257818190035\n",
      "epoch 34   mse=0.0061328533972584195\n",
      "epoch 35   mse=0.006133428769310088\n",
      "epoch 36   mse=0.006099633553331297\n",
      "epoch 37   mse=0.006124210375776422\n",
      "epoch 38   mse=0.006114978624183111\n",
      "epoch 39   mse=0.006143295069076445\n",
      "epoch 40   mse=0.006102781746587123\n",
      "epoch 41   mse=0.006107715348776445\n",
      "epoch 42   mse=0.006159160302582527\n",
      "epoch 43   mse=0.0061707540722768656\n",
      "epoch 44   mse=0.006065428789241604\n",
      "epoch 45   mse=0.006072661628158704\n",
      "epoch 46   mse=0.006153922944910194\n",
      "epoch 47   mse=0.006158598003376678\n",
      "epoch 48   mse=0.00604762220048236\n",
      "epoch 49   mse=0.00603377217106077\n",
      "epoch 50   mse=0.006088393486649988\n",
      "epoch 51   mse=0.006021714411001176\n",
      "epoch 52   mse=0.006025787401620431\n",
      "epoch 53   mse=0.005983678357282332\n",
      "epoch 54   mse=0.0060130895314367\n",
      "epoch 55   mse=0.006057238170005745\n",
      "epoch 56   mse=0.006039835096234205\n",
      "epoch 57   mse=0.006018085502056141\n",
      "epoch 58   mse=0.005975861671268329\n",
      "epoch 59   mse=0.005983529828683729\n",
      "epoch 60   mse=0.005984180179443085\n",
      "epoch 61   mse=0.005950831088042605\n",
      "epoch 62   mse=0.005956374794237541\n",
      "epoch 63   mse=0.005997063173835275\n",
      "epoch 64   mse=0.005987801167026123\n",
      "epoch 65   mse=0.005936034284676208\n",
      "epoch 66   mse=0.005931584269882263\n",
      "epoch 67   mse=0.00595319725491924\n",
      "epoch 68   mse=0.005968170334130359\n",
      "epoch 69   mse=0.005929212103010199\n",
      "epoch 70   mse=0.005912452242004826\n",
      "epoch 71   mse=0.005917895854466592\n",
      "epoch 72   mse=0.005973803826662089\n",
      "epoch 73   mse=0.00589041671312562\n",
      "epoch 74   mse=0.005920972953244843\n",
      "epoch 75   mse=0.0059116772238775326\n",
      "epoch 76   mse=0.005874845061901627\n",
      "epoch 77   mse=0.005924741242622164\n",
      "epoch 78   mse=0.005887578742091959\n",
      "epoch 79   mse=0.005861268332970079\n",
      "epoch 80   mse=0.005845841921688745\n",
      "epoch 81   mse=0.005902276262454189\n",
      "epoch 82   mse=0.005845793645804963\n",
      "epoch 83   mse=0.005837161365781944\n",
      "epoch 84   mse=0.005868363870237529\n",
      "epoch 85   mse=0.005909461861397229\n",
      "epoch 86   mse=0.00584594599998971\n",
      "epoch 87   mse=0.005817184710715808\n",
      "epoch 88   mse=0.005872824575912828\n",
      "epoch 89   mse=0.005837829315432211\n",
      "epoch 90   mse=0.005839850500061037\n",
      "epoch 91   mse=0.005825539668039547\n",
      "epoch 92   mse=0.0058267782220315315\n",
      "epoch 93   mse=0.005852588139530881\n",
      "epoch 94   mse=0.00580170275944292\n",
      "epoch 95   mse=0.005770493618257766\n",
      "epoch 96   mse=0.005815793326487551\n",
      "epoch 97   mse=0.005779476286450983\n",
      "epoch 98   mse=0.005779407108200535\n",
      "epoch 99   mse=0.005731599507454416\n",
      "epoch 100   mse=0.0057594653722018935\n",
      "epoch 101   mse=0.005752928464342561\n",
      "epoch 102   mse=0.005727436551974595\n",
      "epoch 103   mse=0.005803542606291195\n",
      "epoch 104   mse=0.005707659761523599\n",
      "epoch 105   mse=0.00573781050435588\n",
      "epoch 106   mse=0.005732185464710845\n",
      "epoch 107   mse=0.005728050541443712\n",
      "epoch 108   mse=0.005762347910417681\n",
      "epoch 109   mse=0.0057037494684286545\n",
      "epoch 110   mse=0.005770479407050178\n",
      "epoch 111   mse=0.005737983670862559\n",
      "epoch 112   mse=0.0056691767333557986\n",
      "epoch 113   mse=0.005661112884425998\n",
      "epoch 114   mse=0.005667633434416323\n",
      "epoch 115   mse=0.005650685388504905\n",
      "epoch 116   mse=0.0056574303223756684\n",
      "epoch 117   mse=0.0056278439547319346\n",
      "epoch 118   mse=0.005665947789836468\n",
      "epoch 119   mse=0.005704082520281527\n",
      "epoch 120   mse=0.005634271638101854\n",
      "epoch 121   mse=0.0056239452379156655\n",
      "epoch 122   mse=0.0056104874535163555\n",
      "epoch 123   mse=0.005665263209880292\n",
      "epoch 124   mse=0.005686218196604063\n",
      "epoch 125   mse=0.00566253960779379\n",
      "epoch 126   mse=0.005585632609262503\n",
      "epoch 127   mse=0.005629918593886017\n",
      "epoch 128   mse=0.005589606065880306\n",
      "epoch 129   mse=0.005583171895252236\n",
      "epoch 130   mse=0.005608574474493957\n",
      "epoch 131   mse=0.005564136335058525\n",
      "epoch 132   mse=0.005604032902810198\n",
      "epoch 133   mse=0.005628597193979193\n",
      "epoch 134   mse=0.005550050464234489\n",
      "epoch 135   mse=0.005571878704522735\n",
      "epoch 136   mse=0.005619470603231682\n",
      "epoch 137   mse=0.005553623212796901\n",
      "epoch 138   mse=0.005539214130120395\n",
      "epoch 139   mse=0.005586985719665091\n",
      "epoch 140   mse=0.005558699730461682\n",
      "epoch 141   mse=0.005546057591247597\n",
      "epoch 142   mse=0.005549479559131484\n",
      "epoch 143   mse=0.00550654641398266\n",
      "epoch 144   mse=0.005500582935624858\n",
      "epoch 145   mse=0.005470505445760833\n",
      "epoch 146   mse=0.005520843554807512\n",
      "epoch 147   mse=0.005467698101481838\n",
      "epoch 148   mse=0.005479365079239359\n",
      "epoch 149   mse=0.005520026533385166\n",
      "epoch 150   mse=0.005495878427892014\n",
      "epoch 151   mse=0.005445077442548573\n",
      "epoch 152   mse=0.005495042319055511\n",
      "epoch 153   mse=0.005463436866477523\n",
      "epoch 154   mse=0.005472520944651684\n",
      "epoch 155   mse=0.005425716520827554\n",
      "epoch 156   mse=0.005435703809880655\n",
      "epoch 157   mse=0.005446044274415758\n",
      "epoch 158   mse=0.00552261959257139\n",
      "epoch 159   mse=0.005484769181293832\n",
      "epoch 160   mse=0.00542964567776592\n",
      "epoch 161   mse=0.005453984274087326\n",
      "epoch 162   mse=0.005466280820353084\n",
      "epoch 163   mse=0.0054239619189785735\n",
      "epoch 164   mse=0.005421255415135725\n",
      "epoch 165   mse=0.005456938466001817\n",
      "epoch 166   mse=0.00537841633577316\n",
      "epoch 167   mse=0.005392178630955852\n",
      "epoch 168   mse=0.00537858977062307\n",
      "epoch 169   mse=0.005383591465851383\n",
      "epoch 170   mse=0.00536301168500464\n",
      "epoch 171   mse=0.005378676857856676\n",
      "epoch 172   mse=0.00537589234612561\n",
      "epoch 173   mse=0.005426589960797129\n",
      "epoch 174   mse=0.005393924455498179\n",
      "epoch 175   mse=0.005328085286647553\n",
      "epoch 176   mse=0.005477608959386398\n",
      "epoch 177   mse=0.005363634984763356\n",
      "epoch 178   mse=0.005334504271451595\n",
      "epoch 179   mse=0.005374078425987866\n",
      "epoch 180   mse=0.005324679093747399\n",
      "epoch 181   mse=0.005304585253735353\n",
      "epoch 182   mse=0.005299552761982919\n",
      "epoch 183   mse=0.005348092377268785\n",
      "epoch 184   mse=0.005344474292804124\n",
      "epoch 185   mse=0.005329686274430113\n",
      "epoch 186   mse=0.005273868906907113\n",
      "epoch 187   mse=0.005293108074900918\n",
      "epoch 188   mse=0.005314539975596052\n",
      "epoch 189   mse=0.005278609967092309\n",
      "epoch 190   mse=0.005305531079234896\n",
      "epoch 191   mse=0.005257543639250826\n",
      "epoch 192   mse=0.00532217266900435\n",
      "epoch 193   mse=0.005251535889017373\n",
      "epoch 194   mse=0.005242556080701511\n",
      "epoch 195   mse=0.005251803705311261\n",
      "epoch 196   mse=0.005255950349386086\n",
      "epoch 197   mse=0.005254865261559328\n",
      "epoch 198   mse=0.005279146619565628\n",
      "epoch 199   mse=0.005255780524686971\n",
      "epoch 200   mse=0.005207991592087394\n"
     ]
    }
   ],
   "execution_count": 210
  },
  {
   "metadata": {
    "ExecuteTime": {
     "end_time": "2025-06-12T07:03:23.886113Z",
     "start_time": "2025-06-12T07:03:23.278710Z"
    }
   },
   "cell_type": "code",
   "source": [
    "testdf = pd.read_csv(\"fashion-mnist_test.csv\")\n",
    "dummies = pd.get_dummies(testdf['label'], prefix='y')\n",
    "testdf = pd.concat([testdf, dummies], axis=1)\n",
    "for i in labels:\n",
    "    testdf[f'y_{i}'] = (testdf['label'] == i).astype(int)"
   ],
   "id": "c86a98cca532dcfc",
   "outputs": [],
   "execution_count": 134
  },
  {
   "metadata": {
    "ExecuteTime": {
     "end_time": "2025-06-12T07:03:24.924459Z",
     "start_time": "2025-06-12T07:03:24.861217Z"
    }
   },
   "cell_type": "code",
   "source": [
    "X_test = testdf[[f'pixel{i}' for i in range(1, n_in+1)]].to_numpy() / 255.0\n",
    "Y_test = testdf[[f'y_{i}' for i in range(n_out)]].to_numpy()"
   ],
   "id": "45a23498d8b68437",
   "outputs": [],
   "execution_count": 135
  },
  {
   "metadata": {
    "ExecuteTime": {
     "end_time": "2025-06-12T09:08:35.625440Z",
     "start_time": "2025-06-12T09:08:35.541413Z"
    }
   },
   "cell_type": "code",
   "source": [
    "O_test, _ = forward(X_test)\n",
    "classes_preds = np.argmax(O_test, axis=1)\n",
    "classes = testdf['label'].to_numpy()\n",
    "\n",
    "pct_accuracy = 0\n",
    "for i in range(len(classes)):\n",
    "    if classes[i] == classes_preds[i]:\n",
    "        pct_accuracy += 1\n",
    "pct_accuracy /= len(classes)\n",
    "pct_accuracy *= 100\n",
    "print(pct_accuracy)\n",
    "mse = np.mean((O_test - Y_test)**2)\n",
    "print(f\"mse={mse}\")"
   ],
   "id": "de940bae15c91a9b",
   "outputs": [
    {
     "name": "stdout",
     "output_type": "stream",
     "text": [
      "90.08\n",
      "mse=0.015722601611585837\n"
     ]
    }
   ],
   "execution_count": 211
  }
 ],
 "metadata": {
  "kernelspec": {
   "display_name": "Python 3",
   "language": "python",
   "name": "python3"
  },
  "language_info": {
   "codemirror_mode": {
    "name": "ipython",
    "version": 2
   },
   "file_extension": ".py",
   "mimetype": "text/x-python",
   "name": "python",
   "nbconvert_exporter": "python",
   "pygments_lexer": "ipython2",
   "version": "2.7.6"
  }
 },
 "nbformat": 4,
 "nbformat_minor": 5
}
